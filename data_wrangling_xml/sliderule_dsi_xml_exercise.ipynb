{
 "cells": [
  {
   "cell_type": "markdown",
   "metadata": {},
   "source": [
    "# XML example and exercise\n",
    "****\n",
    "+ study examples of accessing nodes in XML tree structure  \n",
    "+ work on exercise to be completed and submitted\n",
    "****\n",
    "+ reference: https://docs.python.org/2.7/library/xml.etree.elementtree.html\n",
    "+ data source: http://www.dbis.informatik.uni-goettingen.de/Mondial\n",
    "****"
   ]
  },
  {
   "cell_type": "code",
   "execution_count": 1,
   "metadata": {
    "collapsed": true
   },
   "outputs": [],
   "source": [
    "from xml.etree import ElementTree as ET"
   ]
  },
  {
   "cell_type": "markdown",
   "metadata": {},
   "source": [
    "## XML example\n",
    "\n",
    "+ for details about tree traversal and iterators, see https://docs.python.org/2.7/library/xml.etree.elementtree.html"
   ]
  },
  {
   "cell_type": "code",
   "execution_count": 2,
   "metadata": {
    "collapsed": true
   },
   "outputs": [],
   "source": [
    "document_tree = ET.parse( './data/mondial_database_less.xml' )"
   ]
  },
  {
   "cell_type": "code",
   "execution_count": 3,
   "metadata": {
    "collapsed": false
   },
   "outputs": [
    {
     "name": "stdout",
     "output_type": "stream",
     "text": [
      "Albania\n",
      "Greece\n",
      "Macedonia\n",
      "Serbia\n",
      "Montenegro\n",
      "Kosovo\n",
      "Andorra\n"
     ]
    }
   ],
   "source": [
    "# print names of all countries\n",
    "for child in document_tree.getroot():\n",
    "    print (child.find('name').text)"
   ]
  },
  {
   "cell_type": "code",
   "execution_count": 4,
   "metadata": {
    "collapsed": false,
    "scrolled": true
   },
   "outputs": [
    {
     "name": "stdout",
     "output_type": "stream",
     "text": [
      "* Albania:\n",
      "Tirana, Shkodër, Durrës, Vlorë, Elbasan, Korçë\n",
      "* Greece:\n",
      "Komotini, Kavala, Athina, Peiraias, Peristeri, Acharnes, Patra, Kozani, Kerkyra, Ioannina, Thessaloniki, Iraklio, Chania, Ermoupoli, Rhodes, Tripoli, Lamia, Chalkida, Larissa, Volos, Mytilini, Karyes\n",
      "* Macedonia:\n",
      "Skopje, Kumanovo\n",
      "* Serbia:\n",
      "Beograd, Novi Sad, Niš\n",
      "* Montenegro:\n",
      "Podgorica\n",
      "* Kosovo:\n",
      "Prishtine\n",
      "* Andorra:\n",
      "Andorra la Vella\n"
     ]
    }
   ],
   "source": [
    "# print names of all countries and their cities\n",
    "for element in document_tree.iterfind('country'):\n",
    "    print ('* ' + element.find('name').text + ':'),\n",
    "    capitals_string = ''\n",
    "    for subelement in element.getiterator('city'):\n",
    "        capitals_string += subelement.find('name').text + ', '\n",
    "    print (capitals_string[:-2])"
   ]
  },
  {
   "cell_type": "markdown",
   "metadata": {},
   "source": [
    "****\n",
    "## XML exercise\n",
    "\n",
    "Using data in 'data/mondial_database.xml', the examples above, and refering to https://docs.python.org/2.7/library/xml.etree.elementtree.html, find\n",
    "\n",
    "1. 10 countries with the lowest infant mortality rates\n",
    "2. 10 cities with the largest population\n",
    "3. 10 ethnic groups with the largest overall populations (sum of best/latest estimates over all countries)\n",
    "4. name and country of a) longest river, b) largest lake and c) airport at highest elevation"
   ]
  },
  {
   "cell_type": "code",
   "execution_count": 5,
   "metadata": {
    "collapsed": true
   },
   "outputs": [],
   "source": [
    "import xml.etree.ElementTree as ET\n",
    "import pandas as pd\n",
    "import numpy as np"
   ]
  },
  {
   "cell_type": "code",
   "execution_count": 6,
   "metadata": {
    "collapsed": true
   },
   "outputs": [],
   "source": [
    "# parse the xml, and to make things cleaner, just assign the root to a variable\n",
    "\n",
    "document = ET.parse( './data/mondial_database.xml' )\n",
    "root = document.getroot()"
   ]
  },
  {
   "cell_type": "code",
   "execution_count": 7,
   "metadata": {
    "collapsed": false
   },
   "outputs": [
    {
     "data": {
      "text/html": [
       "<div>\n",
       "<table border=\"1\" class=\"dataframe\">\n",
       "  <thead>\n",
       "    <tr style=\"text-align: right;\">\n",
       "      <th></th>\n",
       "      <th>country_name</th>\n",
       "      <th>infant_mortality</th>\n",
       "    </tr>\n",
       "  </thead>\n",
       "  <tbody>\n",
       "    <tr>\n",
       "      <th>36</th>\n",
       "      <td>Monaco</td>\n",
       "      <td>1.81</td>\n",
       "    </tr>\n",
       "    <tr>\n",
       "      <th>90</th>\n",
       "      <td>Japan</td>\n",
       "      <td>2.13</td>\n",
       "    </tr>\n",
       "    <tr>\n",
       "      <th>109</th>\n",
       "      <td>Bermuda</td>\n",
       "      <td>2.48</td>\n",
       "    </tr>\n",
       "    <tr>\n",
       "      <th>34</th>\n",
       "      <td>Norway</td>\n",
       "      <td>2.48</td>\n",
       "    </tr>\n",
       "    <tr>\n",
       "      <th>98</th>\n",
       "      <td>Singapore</td>\n",
       "      <td>2.53</td>\n",
       "    </tr>\n",
       "    <tr>\n",
       "      <th>35</th>\n",
       "      <td>Sweden</td>\n",
       "      <td>2.60</td>\n",
       "    </tr>\n",
       "    <tr>\n",
       "      <th>8</th>\n",
       "      <td>Czech Republic</td>\n",
       "      <td>2.63</td>\n",
       "    </tr>\n",
       "    <tr>\n",
       "      <th>72</th>\n",
       "      <td>Hong Kong</td>\n",
       "      <td>2.73</td>\n",
       "    </tr>\n",
       "    <tr>\n",
       "      <th>73</th>\n",
       "      <td>Macao</td>\n",
       "      <td>3.13</td>\n",
       "    </tr>\n",
       "    <tr>\n",
       "      <th>39</th>\n",
       "      <td>Iceland</td>\n",
       "      <td>3.15</td>\n",
       "    </tr>\n",
       "  </tbody>\n",
       "</table>\n",
       "</div>"
      ],
      "text/plain": [
       "       country_name  infant_mortality\n",
       "36           Monaco              1.81\n",
       "90            Japan              2.13\n",
       "109         Bermuda              2.48\n",
       "34           Norway              2.48\n",
       "98        Singapore              2.53\n",
       "35           Sweden              2.60\n",
       "8    Czech Republic              2.63\n",
       "72        Hong Kong              2.73\n",
       "73            Macao              3.13\n",
       "39          Iceland              3.15"
      ]
     },
     "execution_count": 7,
     "metadata": {},
     "output_type": "execute_result"
    }
   ],
   "source": [
    "# Part 1 - 10 countries with the lowest infant mortality rates\n",
    "# Create some placeholder data frames to host the country names and infant mortality rates\n",
    "\n",
    "country_name = []\n",
    "infant_mortality = []\n",
    "\n",
    "# Now we iterate through the XML to put the data into the data frames\n",
    "for element in root:\n",
    "    for subelement in element.getiterator('infant_mortality'):\n",
    "        country_name.append(element.find('name').text)\n",
    "        infant_mortality.append(np.float(subelement.text))\n",
    "        \n",
    "# Here we're just creating the definition of the dataframe that we want, which are the two columns combined\n",
    "definition = {'country_name':country_name, 'infant_mortality':infant_mortality}\n",
    "bottom10mortality = pd.DataFrame(data=definition)\n",
    "\n",
    "# Now sort by infant mortality rate and take the first 10\n",
    "bottom10mortality.sort_values('infant_mortality', ascending=True).head(10)\n"
   ]
  },
  {
   "cell_type": "code",
   "execution_count": 8,
   "metadata": {
    "collapsed": false
   },
   "outputs": [
    {
     "data": {
      "text/html": [
       "<div>\n",
       "<table border=\"1\" class=\"dataframe\">\n",
       "  <thead>\n",
       "    <tr style=\"text-align: right;\">\n",
       "      <th></th>\n",
       "      <th>city_name</th>\n",
       "      <th>population</th>\n",
       "      <th>population_type</th>\n",
       "      <th>year</th>\n",
       "    </tr>\n",
       "  </thead>\n",
       "  <tbody>\n",
       "    <tr>\n",
       "      <th>3750</th>\n",
       "      <td>Shanghai</td>\n",
       "      <td>22315474</td>\n",
       "      <td>census</td>\n",
       "      <td>2010</td>\n",
       "    </tr>\n",
       "    <tr>\n",
       "      <th>2607</th>\n",
       "      <td>Istanbul</td>\n",
       "      <td>13710512</td>\n",
       "      <td>admin.</td>\n",
       "      <td>2012</td>\n",
       "    </tr>\n",
       "    <tr>\n",
       "      <th>4303</th>\n",
       "      <td>Mumbai</td>\n",
       "      <td>12442373</td>\n",
       "      <td>census</td>\n",
       "      <td>2011</td>\n",
       "    </tr>\n",
       "    <tr>\n",
       "      <th>1546</th>\n",
       "      <td>Moskva</td>\n",
       "      <td>11979529</td>\n",
       "      <td>estimate</td>\n",
       "      <td>2013</td>\n",
       "    </tr>\n",
       "    <tr>\n",
       "      <th>3746</th>\n",
       "      <td>Beijing</td>\n",
       "      <td>11716620</td>\n",
       "      <td>census</td>\n",
       "      <td>2010</td>\n",
       "    </tr>\n",
       "    <tr>\n",
       "      <th>8208</th>\n",
       "      <td>São Paulo</td>\n",
       "      <td>11152344</td>\n",
       "      <td>census</td>\n",
       "      <td>2010</td>\n",
       "    </tr>\n",
       "    <tr>\n",
       "      <th>3754</th>\n",
       "      <td>Tianjin</td>\n",
       "      <td>11090314</td>\n",
       "      <td>census</td>\n",
       "      <td>2010</td>\n",
       "    </tr>\n",
       "    <tr>\n",
       "      <th>3364</th>\n",
       "      <td>Guangzhou</td>\n",
       "      <td>11071424</td>\n",
       "      <td>census</td>\n",
       "      <td>2010</td>\n",
       "    </tr>\n",
       "    <tr>\n",
       "      <th>4399</th>\n",
       "      <td>Delhi</td>\n",
       "      <td>11034555</td>\n",
       "      <td>census</td>\n",
       "      <td>2011</td>\n",
       "    </tr>\n",
       "    <tr>\n",
       "      <th>3371</th>\n",
       "      <td>Shenzhen</td>\n",
       "      <td>10358381</td>\n",
       "      <td>census</td>\n",
       "      <td>2010</td>\n",
       "    </tr>\n",
       "  </tbody>\n",
       "</table>\n",
       "</div>"
      ],
      "text/plain": [
       "      city_name  population population_type  year\n",
       "3750   Shanghai    22315474          census  2010\n",
       "2607   Istanbul    13710512          admin.  2012\n",
       "4303     Mumbai    12442373          census  2011\n",
       "1546     Moskva    11979529        estimate  2013\n",
       "3746    Beijing    11716620          census  2010\n",
       "8208  São Paulo    11152344          census  2010\n",
       "3754    Tianjin    11090314          census  2010\n",
       "3364  Guangzhou    11071424          census  2010\n",
       "4399      Delhi    11034555          census  2011\n",
       "3371   Shenzhen    10358381          census  2010"
      ]
     },
     "execution_count": 8,
     "metadata": {},
     "output_type": "execute_result"
    }
   ],
   "source": [
    "# Part 2 - 10 cities with the largest population\n",
    "\n",
    "#so this is trickier because now instead of a 1 : 1 relationship like part 1, a city may have one or more population\n",
    "#observations. Which means I now have to figure out how to get that to happen.\n",
    "\n",
    "#and sometimes of course, a city country might have more than one name attribute. Ugh.\n",
    "\n",
    "city_name = []\n",
    "population_number = []\n",
    "population_type = []\n",
    "year = []\n",
    "\n",
    "# so the city is a child of the root, but the population is a grandchild of the root. So we'll have to nest some things together\n",
    "# the assignment isn't clear which population measure we should be taking, so I'll include the measurement type as well\n",
    "# note that not all of the population measurements have a \"measured\" type\n",
    "\n",
    "for element in root:\n",
    "    for city in element.getiterator('city'):\n",
    "        for population in city.getiterator('population'):\n",
    "            city_name.append(city.find('name').text)\n",
    "            population_number.append(np.int(population.text))\n",
    "            year.append(np.int(population.get('year')))\n",
    "            if 'measured' in population.attrib:\n",
    "                population_type.append(population.get('measured'))\n",
    "            else:\n",
    "                population_type.append(np.nan)\n",
    "                \n",
    "\n",
    "# now define the end result data frame\n",
    "\n",
    "definition = {'city_name':city_name, 'year':year, 'population_type':population_type,'population':population_number}\n",
    "citypopulation = pd.DataFrame(data=definition)\n",
    "\n",
    "# and pull out the 10 cities with the largest population\n",
    "\n",
    "citypopulation.loc[citypopulation.reset_index().groupby('city_name')['year'].idxmax()]. \\\n",
    "sort_values('population', ascending=False).head(10)"
   ]
  },
  {
   "cell_type": "code",
   "execution_count": 9,
   "metadata": {
    "collapsed": false
   },
   "outputs": [
    {
     "data": {
      "text/html": [
       "<div>\n",
       "<table border=\"1\" class=\"dataframe\">\n",
       "  <thead>\n",
       "    <tr style=\"text-align: right;\">\n",
       "      <th></th>\n",
       "      <th>ethnic_population</th>\n",
       "    </tr>\n",
       "    <tr>\n",
       "      <th>ethnic_group</th>\n",
       "      <th></th>\n",
       "    </tr>\n",
       "  </thead>\n",
       "  <tbody>\n",
       "    <tr>\n",
       "      <th>Han Chinese</th>\n",
       "      <td>1.245059e+09</td>\n",
       "    </tr>\n",
       "    <tr>\n",
       "      <th>European</th>\n",
       "      <td>4.410033e+08</td>\n",
       "    </tr>\n",
       "    <tr>\n",
       "      <th>Dravidian</th>\n",
       "      <td>3.027137e+08</td>\n",
       "    </tr>\n",
       "    <tr>\n",
       "      <th>African</th>\n",
       "      <td>1.986050e+08</td>\n",
       "    </tr>\n",
       "    <tr>\n",
       "      <th>Bengali</th>\n",
       "      <td>1.467769e+08</td>\n",
       "    </tr>\n",
       "    <tr>\n",
       "      <th>Mestizo</th>\n",
       "      <td>1.419729e+08</td>\n",
       "    </tr>\n",
       "    <tr>\n",
       "      <th>Japanese</th>\n",
       "      <td>1.265342e+08</td>\n",
       "    </tr>\n",
       "    <tr>\n",
       "      <th>Russian</th>\n",
       "      <td>1.146462e+08</td>\n",
       "    </tr>\n",
       "    <tr>\n",
       "      <th>Javanese</th>\n",
       "      <td>1.134560e+08</td>\n",
       "    </tr>\n",
       "    <tr>\n",
       "      <th>German</th>\n",
       "      <td>7.919272e+07</td>\n",
       "    </tr>\n",
       "  </tbody>\n",
       "</table>\n",
       "</div>"
      ],
      "text/plain": [
       "              ethnic_population\n",
       "ethnic_group                   \n",
       "Han Chinese        1.245059e+09\n",
       "European           4.410033e+08\n",
       "Dravidian          3.027137e+08\n",
       "African            1.986050e+08\n",
       "Bengali            1.467769e+08\n",
       "Mestizo            1.419729e+08\n",
       "Japanese           1.265342e+08\n",
       "Russian            1.146462e+08\n",
       "Javanese           1.134560e+08\n",
       "German             7.919272e+07"
      ]
     },
     "execution_count": 9,
     "metadata": {},
     "output_type": "execute_result"
    }
   ],
   "source": [
    "# Part 3 - 10 ethnic groups with the largest overall populations (sum of best/latest estimates over all countries)\n",
    "\n",
    "# ethnic group is a child of the root. Can have multiples per country\n",
    "# Population is also a child of the root - and it looks like we need measured = est.\n",
    "# I'm guessing we'll have to multiply the ethnicgroup percentage by the population of the country\n",
    "# to get the population of the ethnic group\n",
    "\n",
    "ethnic_population = []\n",
    "ethnic_group = []\n",
    "year = []\n",
    "country_name = []\n",
    "\n",
    "# so we're going to get the country, ethnic group, year, and calculate the population which is percent * population / 100\n",
    "for element in root:\n",
    "    for country in element.getiterator('country'):\n",
    "        for population in country.findall('population'):\n",
    "            if country.find('ethnicgroup') is not None:\n",
    "                country_name.append(element.find('name').text)\n",
    "                ethnic_group.append(element.find('ethnicgroup').text)\n",
    "                year.append(population.get('year'))\n",
    "                ethnic_population.append(np.float(np.int(population.text) * np.float(element.find('ethnicgroup'). \\\n",
    "                                                                         get('percentage'))/100))\n",
    "            \n",
    "# create the data frame\n",
    "definition = {'ethnic_group':ethnic_group, 'country':country_name, 'year':year, 'ethnic_population':ethnic_population}\n",
    "ethnic_pop = pd.DataFrame(data=definition)\n",
    "\n",
    "# get the maximum country/year combination to get the best/latest estimate of population\n",
    "ethnic_pop = ethnic_pop.loc[ethnic_pop.reset_index().groupby(['ethnic_group', 'country'])['year'].idxmax()]\n",
    "\n",
    "# and now return the top 10 list of ethnic groups by population\n",
    "ethnic_pop.groupby(['ethnic_group']).agg(np.sum).sort_values('ethnic_population', ascending=False).head(10)"
   ]
  },
  {
   "cell_type": "code",
   "execution_count": null,
   "metadata": {
    "collapsed": false
   },
   "outputs": [],
   "source": []
  },
  {
   "cell_type": "code",
   "execution_count": 10,
   "metadata": {
    "collapsed": false
   },
   "outputs": [],
   "source": [
    "# Part 4 - name and country of a) longest river, b) largest lake and c) airport at highest elevation\n",
    "\n",
    "# the problem with this one is that the river, lake, airport have country codes associated with them\n",
    "# the countries also have country codes. the river/lake/airport data are not children of the countries\n",
    "# so this implies some kind of lookup to get the country name from the country code\n",
    "\n",
    "# create a dataframe that will hold the country codes and country names - we'll use this for all 3 parts\n",
    "\n",
    "country_code = []\n",
    "country_name = []\n",
    "\n",
    "for element in root:\n",
    "    for country in element.getiterator('country'):\n",
    "        country_code.append(country.get('car_code'))\n",
    "        country_name.append(country.find('name').text)\n",
    "\n",
    "definition = {'country_code':country_code,\n",
    "             'country_name':country_name}\n",
    "\n",
    "country = pd.DataFrame(data=definition)\n"
   ]
  },
  {
   "cell_type": "code",
   "execution_count": 11,
   "metadata": {
    "collapsed": false
   },
   "outputs": [
    {
     "data": {
      "text/html": [
       "<div>\n",
       "<table border=\"1\" class=\"dataframe\">\n",
       "  <thead>\n",
       "    <tr style=\"text-align: right;\">\n",
       "      <th></th>\n",
       "      <th>country_code</th>\n",
       "      <th>country_name</th>\n",
       "      <th>river_length</th>\n",
       "      <th>river_name</th>\n",
       "    </tr>\n",
       "  </thead>\n",
       "  <tbody>\n",
       "    <tr>\n",
       "      <th>0</th>\n",
       "      <td>PE</td>\n",
       "      <td>Peru</td>\n",
       "      <td>6448</td>\n",
       "      <td>Amazonas</td>\n",
       "    </tr>\n",
       "  </tbody>\n",
       "</table>\n",
       "</div>"
      ],
      "text/plain": [
       "  country_code country_name  river_length river_name\n",
       "0           PE         Peru          6448   Amazonas"
      ]
     },
     "execution_count": 11,
     "metadata": {},
     "output_type": "execute_result"
    }
   ],
   "source": [
    "#a) longest river\n",
    "\n",
    "# There seems to be multiple countries on any given river - whether you look at the source country\n",
    "# or just the country. So we'll have to retrieve both names, and we'll assume that we're using the source country field.\n",
    "\n",
    "river_name = []\n",
    "river_length = []\n",
    "river_country = []\n",
    "\n",
    "for element in root:\n",
    "    for river in element.getiterator('river'):\n",
    "        river_name.append(river.find('name').text)\n",
    "        if river.find('length') is not None:\n",
    "            river_length.append(np.float(river.find('length').text))\n",
    "        else:\n",
    "            river_length.append(np.nan)\n",
    "        river_country.append(river.find('source').get('country'))\n",
    "#        print(river.find('name').text, river.find('length').text, river.get('country'))\n",
    "\n",
    "# define and make the data frame\n",
    "definition = {'river_name':river_name, 'river_length':river_length, 'country_code':river_country}\n",
    "longest_river = pd.DataFrame(data=definition)\n",
    "\n",
    "longest_river = longest_river.sort_values('river_length', ascending=False).head(1)\n",
    "\n",
    "pd.merge(country, longest_river, on='country_code')\n"
   ]
  },
  {
   "cell_type": "code",
   "execution_count": null,
   "metadata": {
    "collapsed": true
   },
   "outputs": [],
   "source": []
  },
  {
   "cell_type": "code",
   "execution_count": 12,
   "metadata": {
    "collapsed": false
   },
   "outputs": [
    {
     "data": {
      "text/html": [
       "<div>\n",
       "<table border=\"1\" class=\"dataframe\">\n",
       "  <thead>\n",
       "    <tr style=\"text-align: right;\">\n",
       "      <th></th>\n",
       "      <th>country_code</th>\n",
       "      <th>country_name</th>\n",
       "      <th>lake_name</th>\n",
       "      <th>lake_size</th>\n",
       "    </tr>\n",
       "  </thead>\n",
       "  <tbody>\n",
       "    <tr>\n",
       "      <th>0</th>\n",
       "      <td>R</td>\n",
       "      <td>Russia</td>\n",
       "      <td>Caspian Sea</td>\n",
       "      <td>386400</td>\n",
       "    </tr>\n",
       "  </tbody>\n",
       "</table>\n",
       "</div>"
      ],
      "text/plain": [
       "  country_code country_name    lake_name  lake_size\n",
       "0            R       Russia  Caspian Sea     386400"
      ]
     },
     "execution_count": 12,
     "metadata": {},
     "output_type": "execute_result"
    }
   ],
   "source": [
    "# b) largest lake\n",
    "\n",
    "lake_name = []\n",
    "lake_size = []\n",
    "lake_country = []\n",
    "\n",
    "for element in root:\n",
    "    for lake in element.iter('lake'):\n",
    "        lake_name.append(lake.find('name').text)\n",
    "        if lake.find('area') is not None:\n",
    "            lake_size.append(np.float(lake.find('area').text))\n",
    "        else:\n",
    "            lake_size.append(np.nan)\n",
    "        if lake.find('located') is not None:\n",
    "            lake_country.append(lake.find('located').get('country'))\n",
    "        else:\n",
    "            lake_country.append(np.nan)\n",
    "        \n",
    "definition = {'lake_name':lake_name,\n",
    "             'lake_size':lake_size,\n",
    "             'country_code':lake_country}\n",
    "\n",
    "largest_lake = pd.DataFrame(data=definition)\n",
    "\n",
    "largest_lake = largest_lake.sort_values('lake_size',ascending=False).head(1)\n",
    "\n",
    "pd.merge(country, largest_lake, on='country_code')"
   ]
  },
  {
   "cell_type": "code",
   "execution_count": null,
   "metadata": {
    "collapsed": false
   },
   "outputs": [],
   "source": []
  },
  {
   "cell_type": "code",
   "execution_count": 13,
   "metadata": {
    "collapsed": false
   },
   "outputs": [
    {
     "data": {
      "text/html": [
       "<div>\n",
       "<table border=\"1\" class=\"dataframe\">\n",
       "  <thead>\n",
       "    <tr style=\"text-align: right;\">\n",
       "      <th></th>\n",
       "      <th>country_code</th>\n",
       "      <th>country_name</th>\n",
       "      <th>airport_elevation</th>\n",
       "      <th>airport_name</th>\n",
       "    </tr>\n",
       "  </thead>\n",
       "  <tbody>\n",
       "    <tr>\n",
       "      <th>0</th>\n",
       "      <td>BOL</td>\n",
       "      <td>Bolivia</td>\n",
       "      <td>4063</td>\n",
       "      <td>El Alto Intl</td>\n",
       "    </tr>\n",
       "  </tbody>\n",
       "</table>\n",
       "</div>"
      ],
      "text/plain": [
       "  country_code country_name  airport_elevation  airport_name\n",
       "0          BOL      Bolivia               4063  El Alto Intl"
      ]
     },
     "execution_count": 13,
     "metadata": {},
     "output_type": "execute_result"
    }
   ],
   "source": [
    "# c) airport at highest elevation\n",
    "\n",
    "airport_name = []\n",
    "airport_country = []\n",
    "airport_elevation = []\n",
    "\n",
    "for element in root:\n",
    "    for airport in element.getiterator('airport'):\n",
    "        airport_name.append(airport.find('name').text)\n",
    "        airport_country.append(airport.get('country'))\n",
    "        if airport.find('elevation') is not None:\n",
    "            if airport.find('elevation').text is not None:\n",
    "                airport_elevation.append(np.float(airport.find('elevation').text))\n",
    "            else:\n",
    "                airport_elevation.append(0)\n",
    "\n",
    "definition = {'airport_name':airport_name,\n",
    "             'country_code':airport_country,\n",
    "             'airport_elevation':airport_elevation}\n",
    "\n",
    "highest_airport = pd.DataFrame(data=definition)\n",
    "\n",
    "highest_airport = highest_airport.sort_values('airport_elevation', ascending=False).head(1)\n",
    "\n",
    "pd.merge(country, highest_airport, on='country_code')\n"
   ]
  },
  {
   "cell_type": "code",
   "execution_count": null,
   "metadata": {
    "collapsed": false
   },
   "outputs": [],
   "source": []
  }
 ],
 "metadata": {
  "kernelspec": {
   "display_name": "Python 3",
   "language": "python",
   "name": "python3"
  },
  "language_info": {
   "codemirror_mode": {
    "name": "ipython",
    "version": 3
   },
   "file_extension": ".py",
   "mimetype": "text/x-python",
   "name": "python",
   "nbconvert_exporter": "python",
   "pygments_lexer": "ipython3",
   "version": "3.5.1"
  }
 },
 "nbformat": 4,
 "nbformat_minor": 0
}
