{
 "cells": [
  {
   "cell_type": "markdown",
   "metadata": {},
   "source": [
    "## What is the true normal human body temperature? \n",
    "\n",
    "#### Background\n",
    "\n",
    "The mean normal body temperature was held to be 37$^{\\circ}$C or 98.6$^{\\circ}$F for more than 120 years since it was first conceptualized and reported by Carl Wunderlich in a famous 1868 book. In 1992, this value was revised to 36.8$^{\\circ}$C or 98.2$^{\\circ}$F. \n",
    "\n",
    "#### Exercise\n",
    "In this exercise, you will analyze a dataset of human body temperatures and employ the concepts of hypothesis testing, confidence intervals, and statistical significance.\n",
    "\n",
    "Answer the following questions **in this notebook below and submit to your Github account**. \n",
    "\n",
    "1.  Is the distribution of body temperatures normal? \n",
    "    - Remember that this is a condition for the CLT, and hence the statistical tests we are using, to apply. \n",
    "2.  Is the true population mean really 98.6 degrees F?\n",
    "    - Bring out the one sample hypothesis test! In this situation, is it approriate to apply a z-test or a t-test? How will the result be different?\n",
    "3.  At what temperature should we consider someone's temperature to be \"abnormal\"?\n",
    "    - Start by computing the margin of error and confidence interval.\n",
    "4.  Is there a significant difference between males and females in normal temperature?\n",
    "    - Set up and solve for a two sample hypothesis testing.\n",
    "\n",
    "You can include written notes in notebook cells using Markdown: \n",
    "   - In the control panel at the top, choose Cell > Cell Type > Markdown\n",
    "   - Markdown syntax: http://nestacms.com/docs/creating-content/markdown-cheat-sheet\n",
    "\n",
    "#### Resources\n",
    "\n",
    "+ Information and data sources: http://www.amstat.org/publications/jse/datasets/normtemp.txt, http://www.amstat.org/publications/jse/jse_data_archive.htm\n",
    "+ Markdown syntax: http://nestacms.com/docs/creating-content/markdown-cheat-sheet\n",
    "\n",
    "****"
   ]
  },
  {
   "cell_type": "code",
   "execution_count": 3,
   "metadata": {
    "collapsed": true
   },
   "outputs": [],
   "source": [
    "import pandas as pd"
   ]
  },
  {
   "cell_type": "code",
   "execution_count": 4,
   "metadata": {
    "collapsed": false
   },
   "outputs": [],
   "source": [
    "df = pd.read_csv('data/human_body_temperature.csv')"
   ]
  },
  {
   "cell_type": "markdown",
   "metadata": {},
   "source": [
    "# Question 1\n",
    "\n",
    "1. Is the distribution of body temperatures normal?\n",
    "\n",
    "   We can use a histogram of temperature values to determine this."
   ]
  },
  {
   "cell_type": "code",
   "execution_count": 5,
   "metadata": {
    "collapsed": false
   },
   "outputs": [
    {
     "data": {
      "text/plain": [
       "count    130.000000\n",
       "mean      98.249231\n",
       "std        0.733183\n",
       "min       96.300000\n",
       "25%       97.800000\n",
       "50%       98.300000\n",
       "75%       98.700000\n",
       "max      100.800000\n",
       "Name: temperature, dtype: float64"
      ]
     },
     "execution_count": 5,
     "metadata": {},
     "output_type": "execute_result"
    }
   ],
   "source": [
    "df.temperature.describe()"
   ]
  },
  {
   "cell_type": "code",
   "execution_count": 6,
   "metadata": {
    "collapsed": false
   },
   "outputs": [
    {
     "data": {
      "image/png": "[encoded data removed]",
      "text/plain": [
       "<matplotlib.figure.Figure at 0x8314a58>"
      ]
     },
     "metadata": {},
     "output_type": "display_data"
    }
   ],
   "source": [
    "import matplotlib.pyplot as plt\n",
    "%matplotlib inline\n",
    "\n",
    "#the histogram generated by this code shows that the data are roughly normally distributed (e.g. have a bell curve shape)\n",
    "\n",
    "plt.hist(df.temperature)\n",
    "\n",
    "plt.title(\"Body Temperature Histogram\")\n",
    "plt.xlabel(\"Value\")\n",
    "plt.ylabel(\"Frequency\")\n",
    "plt.show()"
   ]
  },
  {
   "cell_type": "markdown",
   "metadata": {},
   "source": [
    "# Question 2 Is the true population mean really 98.6 degrees F?\n",
    "\n",
    "We'll use a z-test for this because the sample size is n = 130. For n >= 30, we use z-tests"
   ]
  },
  {
   "cell_type": "code",
   "execution_count": 10,
   "metadata": {
    "collapsed": false
   },
   "outputs": [
    {
     "data": {
      "text/plain": [
       "-5.476"
      ]
     },
     "execution_count": 10,
     "metadata": {},
     "output_type": "execute_result"
    }
   ],
   "source": [
    "# Null hypothesis - The population mean is 98.6 degrees F\n",
    "# Hypothesis - The population mean is not 98.6 degrees F\n",
    "\n",
    "# We'll assume the null hypothesis. We don't have a significance level for the test so we'll assume a 5% significance. That means\n",
    "# that the z-statistic needs to fall between -1.96 and 1.96 in order for us to accept the null hypothesis.\n",
    "\n",
    "# first, let's evaluate the sample mean and standard deviation\n",
    "\n",
    "import numpy as np\n",
    "\n",
    "temp_pop_mean = 98.6\n",
    "sample_size = df.temperature.size\n",
    "temp_sample_mean = np.mean(df.temperature)\n",
    "temp_sample_std = np.std(df.temperature)\n",
    "\n",
    "# calculate the z-statistic which is the\n",
    "# sample mean - assumed population mean divided by the standard deviation of the sample\n",
    "\n",
    "round((temp_sample_mean - temp_pop_mean) / (temp_sample_std / np.sqrt(sample_size)), 3)\n",
    "\n",
    "# -5.476 does not fall within the acceptable range so we reject the null hypothesis and state that the true population mean\n",
    "# is not likely to be 98.6 degrees F.\n"
   ]
  },
  {
   "cell_type": "markdown",
   "metadata": {},
   "source": [
    "# Question 3 At what temperature should we consider someone's temperature to be \"abnormal\"?\n",
    "\n",
    "The suggestion here is to compute the margin of error and the confidence interval.\n",
    "\n",
    "Again, there's no suggestion of what we should be using for the alpha (significance) - so we'll assume the ever popular 95% (critical value of 1.65 according to the z-tables).\n",
    "\n",
    "The margin of error is the critical value (Z-statistic) x standard deviation of the statistic\n",
    "\n",
    "The confidence interval then is the mean + or - the margin of error\n",
    "\n",
    "Any temperature falling outside the confidence interval is therefore considered \"abnormal\"."
   ]
  },
  {
   "cell_type": "code",
   "execution_count": 11,
   "metadata": {
    "collapsed": false
   },
   "outputs": [],
   "source": [
    "# critical value * std of sample\n",
    "\n",
    "critical_value = 1.96\n",
    "\n",
    "margin_of_error = critical_value * temp_sample_std\n",
    "\n",
    "# now calculate the high and low intervals\n",
    "\n",
    "low_interval = temp_sample_mean - margin_of_error\n",
    "high_interval = temp_sample_mean + margin_of_error"
   ]
  },
  {
   "cell_type": "code",
   "execution_count": 22,
   "metadata": {
    "collapsed": false
   },
   "outputs": [
    {
     "name": "stdout",
     "output_type": "stream",
     "text": [
      "A temperature is considered abnormal if it falls outside the range of 96.8 to 99.7 degrees farenheit.\n"
     ]
    }
   ],
   "source": [
    "print('A temperature is considered abnormal if it falls outside the range of ' + str(round(low_interval,1)) + ' to ' \\\n",
    "+ str(round(high_interval,1)) + ' degrees farenheit.')"
   ]
  },
  {
   "cell_type": "markdown",
   "metadata": {},
   "source": [
    "# Question 4 Is there a significant difference between males and females in normal temperature?\n",
    "\n",
    "So this will be a two sample test of the differences of the means - so now we need to work with two different samples from the same data file - one for males and one for females."
   ]
  },
  {
   "cell_type": "code",
   "execution_count": 14,
   "metadata": {
    "collapsed": false
   },
   "outputs": [
    {
     "name": "stdout",
     "output_type": "stream",
     "text": [
      "Because the z statistic is -3.99, the null hypothesis is rejected, meaning that there is a difference between the temperatures of men and women.\n"
     ]
    }
   ],
   "source": [
    "# let's separate out the data sets\n",
    "\n",
    "male = df[df.gender == 'M']\n",
    "female = df[df.gender == 'F']\n",
    "\n",
    "# let's calculate their means\n",
    "\n",
    "male_mean = np.mean(male.temperature)\n",
    "female_mean = np.mean(female.temperature)\n",
    "\n",
    "# and let's do the standard deviations while we're at it\n",
    "\n",
    "male_std = np.std(male.temperature)\n",
    "female_std = np.std(female.temperature)\n",
    "\n",
    "# calculate the difference in the means\n",
    "\n",
    "mean_diff = male_mean - female_mean\n",
    "\n",
    "# the null hypothesis, which we'll assume to be true, is that there is no difference between the temperatures in men and women\n",
    "# in other words, that the male_mean = female_mean\n",
    "# we'll assume a 95% confidence interval (or a significance, alpha, of 5%)\n",
    "# again, using the z-table, this gives us a value of 1.96\n",
    "\n",
    "# need to calculate the square of SD of both samples, divided by their sample size, add them together, take the square root\n",
    "# also known as the standard error or se\n",
    "\n",
    "se = np.sqrt(((male_std * male_std)/male.size) + ((female_std * female_std)/female.size))\n",
    "\n",
    "# calculate the zscore which is the mean difference in the samples divided by the standard error\n",
    "\n",
    "zstat = mean_diff / se\n",
    "\n",
    "print('Because the z statistic is ' + str(round(zstat,2)) + ', the null hypothesis is rejected, meaning that there is ' \\\n",
    "     + 'a difference between the temperatures of men and women.')\n"
   ]
  }
 ],
 "metadata": {
  "kernelspec": {
   "display_name": "Python 3",
   "language": "python",
   "name": "python3"
  },
  "language_info": {
   "codemirror_mode": {
    "name": "ipython",
    "version": 3
   },
   "file_extension": ".py",
   "mimetype": "text/x-python",
   "name": "python",
   "nbconvert_exporter": "python",
   "pygments_lexer": "ipython3",
   "version": "3.5.1"
  }
 },
 "nbformat": 4,
 "nbformat_minor": 0
}
